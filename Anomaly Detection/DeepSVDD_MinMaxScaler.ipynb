{
 "cells": [
  {
   "cell_type": "markdown",
   "metadata": {
    "papermill": {
     "duration": 0.028534,
     "end_time": "2021-09-15T16:26:20.964036",
     "exception": false,
     "start_time": "2021-09-15T16:26:20.935502",
     "status": "completed"
    },
    "tags": []
   },
   "source": [
    "# Deep One-Class Classification with MinMaxScaler\n"
   ]
  },
  {
   "cell_type": "markdown",
   "metadata": {
    "papermill": {
     "duration": 0.023528,
     "end_time": "2021-09-15T16:26:21.012688",
     "exception": false,
     "start_time": "2021-09-15T16:26:20.989160",
     "status": "completed"
    },
    "tags": []
   },
   "source": [
    "This code template is for Anomaly detection/outlier analysis using the Deep One-Class Classification. This template utilizes implementation from the pyod library along with feature scaling using MinMaxScaler."
   ]
  },
  {
   "cell_type": "markdown",
   "metadata": {
    "papermill": {
     "duration": 0.030244,
     "end_time": "2021-09-15T16:26:21.067725",
     "exception": false,
     "start_time": "2021-09-15T16:26:21.037481",
     "status": "completed"
    },
    "tags": []
   },
   "source": [
    "### Required Packages"
   ]
  },
  {
   "cell_type": "code",
   "execution_count": 1,
   "metadata": {
    "execution": {
     "iopub.execute_input": "2021-09-15T16:31:53.714836Z",
     "iopub.status.busy": "2021-09-15T16:31:53.713942Z",
     "iopub.status.idle": "2021-09-15T16:32:08.039043Z",
     "shell.execute_reply": "2021-09-15T16:32:08.038067Z",
     "shell.execute_reply.started": "2021-09-15T16:31:53.714746Z"
    },
    "papermill": {
     "duration": 13.613457,
     "end_time": "2021-09-15T16:26:34.708072",
     "exception": false,
     "start_time": "2021-09-15T16:26:21.094615",
     "status": "completed"
    },
    "tags": []
   },
   "outputs": [],
   "source": [
    "!pip install plotly\n",
    "!pip install pyod\n",
    "!pip install tensorflow #For DeepSVDD"
   ]
  },
  {
   "cell_type": "code",
   "execution_count": 19,
   "metadata": {
    "execution": {
     "iopub.execute_input": "2021-09-15T16:33:15.070654Z",
     "iopub.status.busy": "2021-09-15T16:33:15.070329Z",
     "iopub.status.idle": "2021-09-15T16:33:15.078442Z",
     "shell.execute_reply": "2021-09-15T16:33:15.077334Z",
     "shell.execute_reply.started": "2021-09-15T16:33:15.070623Z"
    },
    "papermill": {
     "duration": 8.752136,
     "end_time": "2021-09-15T16:26:43.490775",
     "exception": false,
     "start_time": "2021-09-15T16:26:34.738639",
     "status": "completed"
    },
    "tags": []
   },
   "outputs": [],
   "source": [
    "import time\n",
    "import warnings\n",
    "import pandas as pd\n",
    "import numpy as np\n",
    "from scipy import stats\n",
    "import seaborn as sns\n",
    "import plotly.express as px\n",
    "import matplotlib.pyplot as plt\n",
    "from sklearn.decomposition import PCA\n",
    "from sklearn.manifold import Isomap\n",
    "from pyod.models.deep_svdd import DeepSVDD\n",
    "from sklearn.preprocessing import LabelEncoder, MinMaxScaler\n",
    "from sklearn.model_selection import train_test_split\n",
    "import os\n",
    "os.environ['TF_CPP_MIN_LOG_LEVEL']='3'\n",
    "warnings.filterwarnings(\"ignore\")"
   ]
  },
  {
   "cell_type": "markdown",
   "metadata": {
    "papermill": {
     "duration": 0.02831,
     "end_time": "2021-09-15T16:26:43.548346",
     "exception": false,
     "start_time": "2021-09-15T16:26:43.520036",
     "status": "completed"
    },
    "tags": []
   },
   "source": [
    "### Initialization\n",
    "\n",
    "Filepath of CSV file"
   ]
  },
  {
   "cell_type": "code",
   "execution_count": 20,
   "metadata": {
    "execution": {
     "iopub.execute_input": "2021-09-15T16:33:21.014816Z",
     "iopub.status.busy": "2021-09-15T16:33:21.014523Z",
     "iopub.status.idle": "2021-09-15T16:33:21.018829Z",
     "shell.execute_reply": "2021-09-15T16:33:21.018123Z",
     "shell.execute_reply.started": "2021-09-15T16:33:21.014787Z"
    },
    "papermill": {
     "duration": 0.037058,
     "end_time": "2021-09-15T16:26:43.614182",
     "exception": false,
     "start_time": "2021-09-15T16:26:43.577124",
     "status": "completed"
    },
    "tags": []
   },
   "outputs": [],
   "source": [
    "#filepath\n",
    "file_path=\"\""
   ]
  },
  {
   "cell_type": "markdown",
   "metadata": {
    "papermill": {
     "duration": 0.029281,
     "end_time": "2021-09-15T16:26:43.673471",
     "exception": false,
     "start_time": "2021-09-15T16:26:43.644190",
     "status": "completed"
    },
    "tags": []
   },
   "source": [
    "List of features which are  required for model training ."
   ]
  },
  {
   "cell_type": "code",
   "execution_count": 21,
   "metadata": {
    "execution": {
     "iopub.execute_input": "2021-09-15T16:33:31.424498Z",
     "iopub.status.busy": "2021-09-15T16:33:31.424084Z",
     "iopub.status.idle": "2021-09-15T16:33:31.428194Z",
     "shell.execute_reply": "2021-09-15T16:33:31.427308Z",
     "shell.execute_reply.started": "2021-09-15T16:33:31.424468Z"
    },
    "papermill": {
     "duration": 0.036751,
     "end_time": "2021-09-15T16:26:43.739042",
     "exception": false,
     "start_time": "2021-09-15T16:26:43.702291",
     "status": "completed"
    },
    "tags": []
   },
   "outputs": [],
   "source": [
    "#x_values\n",
    "features=[]"
   ]
  },
  {
   "cell_type": "markdown",
   "metadata": {
    "papermill": {
     "duration": 0.028517,
     "end_time": "2021-09-15T16:26:43.796401",
     "exception": false,
     "start_time": "2021-09-15T16:26:43.767884",
     "status": "completed"
    },
    "tags": []
   },
   "source": [
    "### Data Fetching\n",
    "\n",
    "Pandas is an open-source, BSD-licensed library providing high-performance, easy-to-use data manipulation and data analysis tools.\n",
    "\n",
    "We will use panda's library to read the CSV file using its storage path.And we use the head function to display the initial row or entry."
   ]
  },
  {
   "cell_type": "code",
   "execution_count": 22,
   "metadata": {
    "execution": {
     "iopub.execute_input": "2021-09-15T16:33:32.325164Z",
     "iopub.status.busy": "2021-09-15T16:33:32.324833Z",
     "iopub.status.idle": "2021-09-15T16:33:32.349847Z",
     "shell.execute_reply": "2021-09-15T16:33:32.349114Z",
     "shell.execute_reply.started": "2021-09-15T16:33:32.325134Z"
    },
    "papermill": {
     "duration": 0.077779,
     "end_time": "2021-09-15T16:26:43.903053",
     "exception": false,
     "start_time": "2021-09-15T16:26:43.825274",
     "status": "completed"
    },
    "tags": []
   },
   "outputs": [
    {
     "data": {
      "text/html": [
       "<div>\n",
       "<style scoped>\n",
       "    .dataframe tbody tr th:only-of-type {\n",
       "        vertical-align: middle;\n",
       "    }\n",
       "\n",
       "    .dataframe tbody tr th {\n",
       "        vertical-align: top;\n",
       "    }\n",
       "\n",
       "    .dataframe thead th {\n",
       "        text-align: right;\n",
       "    }\n",
       "</style>\n",
       "<table border=\"1\" class=\"dataframe\">\n",
       "  <thead>\n",
       "    <tr style=\"text-align: right;\">\n",
       "      <th></th>\n",
       "      <th>age</th>\n",
       "      <th>sex</th>\n",
       "      <th>cp</th>\n",
       "      <th>trtbps</th>\n",
       "      <th>chol</th>\n",
       "      <th>fbs</th>\n",
       "      <th>restecg</th>\n",
       "      <th>thalachh</th>\n",
       "      <th>exng</th>\n",
       "      <th>oldpeak</th>\n",
       "      <th>slp</th>\n",
       "      <th>caa</th>\n",
       "      <th>thall</th>\n",
       "      <th>output</th>\n",
       "    </tr>\n",
       "  </thead>\n",
       "  <tbody>\n",
       "    <tr>\n",
       "      <th>0</th>\n",
       "      <td>63</td>\n",
       "      <td>1</td>\n",
       "      <td>3</td>\n",
       "      <td>145</td>\n",
       "      <td>233</td>\n",
       "      <td>1</td>\n",
       "      <td>0</td>\n",
       "      <td>150</td>\n",
       "      <td>0</td>\n",
       "      <td>2.3</td>\n",
       "      <td>0</td>\n",
       "      <td>0</td>\n",
       "      <td>1</td>\n",
       "      <td>1</td>\n",
       "    </tr>\n",
       "    <tr>\n",
       "      <th>1</th>\n",
       "      <td>37</td>\n",
       "      <td>1</td>\n",
       "      <td>2</td>\n",
       "      <td>130</td>\n",
       "      <td>250</td>\n",
       "      <td>0</td>\n",
       "      <td>1</td>\n",
       "      <td>187</td>\n",
       "      <td>0</td>\n",
       "      <td>3.5</td>\n",
       "      <td>0</td>\n",
       "      <td>0</td>\n",
       "      <td>2</td>\n",
       "      <td>1</td>\n",
       "    </tr>\n",
       "    <tr>\n",
       "      <th>2</th>\n",
       "      <td>41</td>\n",
       "      <td>0</td>\n",
       "      <td>1</td>\n",
       "      <td>130</td>\n",
       "      <td>204</td>\n",
       "      <td>0</td>\n",
       "      <td>0</td>\n",
       "      <td>172</td>\n",
       "      <td>0</td>\n",
       "      <td>1.4</td>\n",
       "      <td>2</td>\n",
       "      <td>0</td>\n",
       "      <td>2</td>\n",
       "      <td>1</td>\n",
       "    </tr>\n",
       "    <tr>\n",
       "      <th>3</th>\n",
       "      <td>56</td>\n",
       "      <td>1</td>\n",
       "      <td>1</td>\n",
       "      <td>120</td>\n",
       "      <td>236</td>\n",
       "      <td>0</td>\n",
       "      <td>1</td>\n",
       "      <td>178</td>\n",
       "      <td>0</td>\n",
       "      <td>0.8</td>\n",
       "      <td>2</td>\n",
       "      <td>0</td>\n",
       "      <td>2</td>\n",
       "      <td>1</td>\n",
       "    </tr>\n",
       "    <tr>\n",
       "      <th>4</th>\n",
       "      <td>57</td>\n",
       "      <td>0</td>\n",
       "      <td>0</td>\n",
       "      <td>120</td>\n",
       "      <td>354</td>\n",
       "      <td>0</td>\n",
       "      <td>1</td>\n",
       "      <td>163</td>\n",
       "      <td>1</td>\n",
       "      <td>0.6</td>\n",
       "      <td>2</td>\n",
       "      <td>0</td>\n",
       "      <td>2</td>\n",
       "      <td>1</td>\n",
       "    </tr>\n",
       "  </tbody>\n",
       "</table>\n",
       "</div>"
      ],
      "text/plain": [
       "   age  sex  cp  trtbps  chol  fbs  restecg  thalachh  exng  oldpeak  slp  \\\n",
       "0   63    1   3     145   233    1        0       150     0      2.3    0   \n",
       "1   37    1   2     130   250    0        1       187     0      3.5    0   \n",
       "2   41    0   1     130   204    0        0       172     0      1.4    2   \n",
       "3   56    1   1     120   236    0        1       178     0      0.8    2   \n",
       "4   57    0   0     120   354    0        1       163     1      0.6    2   \n",
       "\n",
       "   caa  thall  output  \n",
       "0    0      1       1  \n",
       "1    0      2       1  \n",
       "2    0      2       1  \n",
       "3    0      2       1  \n",
       "4    0      2       1  "
      ]
     },
     "execution_count": 22,
     "metadata": {},
     "output_type": "execute_result"
    }
   ],
   "source": [
    "df=pd.read_csv(file_path) #reading file\n",
    "df.head()#displaying initial entries"
   ]
  },
  {
   "cell_type": "code",
   "execution_count": 23,
   "metadata": {
    "execution": {
     "iopub.execute_input": "2021-09-15T16:33:33.219862Z",
     "iopub.status.busy": "2021-09-15T16:33:33.219104Z",
     "iopub.status.idle": "2021-09-15T16:33:33.227831Z",
     "shell.execute_reply": "2021-09-15T16:33:33.226648Z",
     "shell.execute_reply.started": "2021-09-15T16:33:33.219829Z"
    },
    "papermill": {
     "duration": 0.041821,
     "end_time": "2021-09-15T16:26:43.976024",
     "exception": false,
     "start_time": "2021-09-15T16:26:43.934203",
     "status": "completed"
    },
    "tags": []
   },
   "outputs": [
    {
     "name": "stdout",
     "output_type": "stream",
     "text": [
      "Number of rows are : 303 ,and number of columns are : 14\n"
     ]
    }
   ],
   "source": [
    "print('Number of rows are :',df.shape[0], ',and number of columns are :',df.shape[1])"
   ]
  },
  {
   "cell_type": "code",
   "execution_count": 24,
   "metadata": {
    "execution": {
     "iopub.execute_input": "2021-09-15T16:33:33.663852Z",
     "iopub.status.busy": "2021-09-15T16:33:33.663573Z",
     "iopub.status.idle": "2021-09-15T16:33:33.672344Z",
     "shell.execute_reply": "2021-09-15T16:33:33.671612Z",
     "shell.execute_reply.started": "2021-09-15T16:33:33.663823Z"
    },
    "papermill": {
     "duration": 0.039667,
     "end_time": "2021-09-15T16:26:44.045131",
     "exception": false,
     "start_time": "2021-09-15T16:26:44.005464",
     "status": "completed"
    },
    "tags": []
   },
   "outputs": [
    {
     "data": {
      "text/plain": [
       "['age',\n",
       " 'sex',\n",
       " 'cp',\n",
       " 'trtbps',\n",
       " 'chol',\n",
       " 'fbs',\n",
       " 'restecg',\n",
       " 'thalachh',\n",
       " 'exng',\n",
       " 'oldpeak',\n",
       " 'slp',\n",
       " 'caa',\n",
       " 'thall',\n",
       " 'output']"
      ]
     },
     "execution_count": 24,
     "metadata": {},
     "output_type": "execute_result"
    }
   ],
   "source": [
    "df.columns.tolist()\n"
   ]
  },
  {
   "cell_type": "markdown",
   "metadata": {
    "papermill": {
     "duration": 0.029534,
     "end_time": "2021-09-15T16:26:44.104572",
     "exception": false,
     "start_time": "2021-09-15T16:26:44.075038",
     "status": "completed"
    },
    "tags": []
   },
   "source": [
    "### Feature Selections\n",
    "\n",
    "It is the process of reducing the number of input variables when developing a predictive model. Used to reduce the number of input variables to both reduce the computational cost of modelling and, in some cases, to improve the performance of the model.\n",
    "\n",
    "We will assign all the required input features to X."
   ]
  },
  {
   "cell_type": "code",
   "execution_count": 25,
   "metadata": {
    "execution": {
     "iopub.execute_input": "2021-09-15T16:33:34.444830Z",
     "iopub.status.busy": "2021-09-15T16:33:34.444444Z",
     "iopub.status.idle": "2021-09-15T16:33:34.451398Z",
     "shell.execute_reply": "2021-09-15T16:33:34.450573Z",
     "shell.execute_reply.started": "2021-09-15T16:33:34.444788Z"
    },
    "papermill": {
     "duration": 0.043885,
     "end_time": "2021-09-15T16:26:44.178225",
     "exception": false,
     "start_time": "2021-09-15T16:26:44.134340",
     "status": "completed"
    },
    "tags": []
   },
   "outputs": [],
   "source": [
    "#spliting data into X(features) \n",
    "\n",
    "X=df[features]"
   ]
  },
  {
   "cell_type": "markdown",
   "metadata": {
    "papermill": {
     "duration": 0.030785,
     "end_time": "2021-09-15T16:26:44.239038",
     "exception": false,
     "start_time": "2021-09-15T16:26:44.208253",
     "status": "completed"
    },
    "tags": []
   },
   "source": [
    "### Data Preprocessing\n",
    "\n",
    "Since the majority of the machine learning models in the Sklearn library doesn't handle string category data and Null value, we have to explicitly remove or replace null values. The below snippet have functions, which removes the null value if any exists. And convert the string classes data in the datasets by encoding them to integer classes.\n"
   ]
  },
  {
   "cell_type": "code",
   "execution_count": 26,
   "metadata": {
    "execution": {
     "iopub.execute_input": "2021-09-15T16:33:35.284359Z",
     "iopub.status.busy": "2021-09-15T16:33:35.283622Z",
     "iopub.status.idle": "2021-09-15T16:33:35.291214Z",
     "shell.execute_reply": "2021-09-15T16:33:35.290262Z",
     "shell.execute_reply.started": "2021-09-15T16:33:35.284316Z"
    },
    "papermill": {
     "duration": 0.041526,
     "end_time": "2021-09-15T16:26:44.311469",
     "exception": false,
     "start_time": "2021-09-15T16:26:44.269943",
     "status": "completed"
    },
    "tags": []
   },
   "outputs": [],
   "source": [
    "def NullClearner(df):\n",
    "    if(isinstance(df, pd.Series) and (df.dtype in [\"float64\",\"int64\"])):\n",
    "        df.fillna(df.mean(),inplace=True)\n",
    "        return df\n",
    "    elif(isinstance(df, pd.Series)):\n",
    "        df.fillna(df.mode()[0],inplace=True)\n",
    "        return df\n",
    "    else:return df\n",
    "def EncodeX(df):\n",
    "    return pd.get_dummies(df)"
   ]
  },
  {
   "cell_type": "markdown",
   "metadata": {
    "papermill": {
     "duration": 0.029423,
     "end_time": "2021-09-15T16:26:44.371042",
     "exception": false,
     "start_time": "2021-09-15T16:26:44.341619",
     "status": "completed"
    },
    "tags": []
   },
   "source": [
    "Calling preprocessing functions on the feature and target set."
   ]
  },
  {
   "cell_type": "code",
   "execution_count": 27,
   "metadata": {
    "execution": {
     "iopub.execute_input": "2021-09-15T16:33:36.125005Z",
     "iopub.status.busy": "2021-09-15T16:33:36.124083Z",
     "iopub.status.idle": "2021-09-15T16:33:36.152955Z",
     "shell.execute_reply": "2021-09-15T16:33:36.152278Z",
     "shell.execute_reply.started": "2021-09-15T16:33:36.124951Z"
    },
    "papermill": {
     "duration": 0.067185,
     "end_time": "2021-09-15T16:26:44.468720",
     "exception": false,
     "start_time": "2021-09-15T16:26:44.401535",
     "status": "completed"
    },
    "tags": []
   },
   "outputs": [
    {
     "data": {
      "text/html": [
       "<div>\n",
       "<style scoped>\n",
       "    .dataframe tbody tr th:only-of-type {\n",
       "        vertical-align: middle;\n",
       "    }\n",
       "\n",
       "    .dataframe tbody tr th {\n",
       "        vertical-align: top;\n",
       "    }\n",
       "\n",
       "    .dataframe thead th {\n",
       "        text-align: right;\n",
       "    }\n",
       "</style>\n",
       "<table border=\"1\" class=\"dataframe\">\n",
       "  <thead>\n",
       "    <tr style=\"text-align: right;\">\n",
       "      <th></th>\n",
       "      <th>age</th>\n",
       "      <th>sex</th>\n",
       "      <th>cp</th>\n",
       "      <th>trtbps</th>\n",
       "      <th>chol</th>\n",
       "      <th>fbs</th>\n",
       "      <th>restecg</th>\n",
       "      <th>thalachh</th>\n",
       "      <th>exng</th>\n",
       "      <th>oldpeak</th>\n",
       "      <th>slp</th>\n",
       "      <th>caa</th>\n",
       "      <th>thall</th>\n",
       "    </tr>\n",
       "  </thead>\n",
       "  <tbody>\n",
       "    <tr>\n",
       "      <th>0</th>\n",
       "      <td>63</td>\n",
       "      <td>1</td>\n",
       "      <td>3</td>\n",
       "      <td>145</td>\n",
       "      <td>233</td>\n",
       "      <td>1</td>\n",
       "      <td>0</td>\n",
       "      <td>150</td>\n",
       "      <td>0</td>\n",
       "      <td>2.3</td>\n",
       "      <td>0</td>\n",
       "      <td>0</td>\n",
       "      <td>1</td>\n",
       "    </tr>\n",
       "    <tr>\n",
       "      <th>1</th>\n",
       "      <td>37</td>\n",
       "      <td>1</td>\n",
       "      <td>2</td>\n",
       "      <td>130</td>\n",
       "      <td>250</td>\n",
       "      <td>0</td>\n",
       "      <td>1</td>\n",
       "      <td>187</td>\n",
       "      <td>0</td>\n",
       "      <td>3.5</td>\n",
       "      <td>0</td>\n",
       "      <td>0</td>\n",
       "      <td>2</td>\n",
       "    </tr>\n",
       "    <tr>\n",
       "      <th>2</th>\n",
       "      <td>41</td>\n",
       "      <td>0</td>\n",
       "      <td>1</td>\n",
       "      <td>130</td>\n",
       "      <td>204</td>\n",
       "      <td>0</td>\n",
       "      <td>0</td>\n",
       "      <td>172</td>\n",
       "      <td>0</td>\n",
       "      <td>1.4</td>\n",
       "      <td>2</td>\n",
       "      <td>0</td>\n",
       "      <td>2</td>\n",
       "    </tr>\n",
       "    <tr>\n",
       "      <th>3</th>\n",
       "      <td>56</td>\n",
       "      <td>1</td>\n",
       "      <td>1</td>\n",
       "      <td>120</td>\n",
       "      <td>236</td>\n",
       "      <td>0</td>\n",
       "      <td>1</td>\n",
       "      <td>178</td>\n",
       "      <td>0</td>\n",
       "      <td>0.8</td>\n",
       "      <td>2</td>\n",
       "      <td>0</td>\n",
       "      <td>2</td>\n",
       "    </tr>\n",
       "    <tr>\n",
       "      <th>4</th>\n",
       "      <td>57</td>\n",
       "      <td>0</td>\n",
       "      <td>0</td>\n",
       "      <td>120</td>\n",
       "      <td>354</td>\n",
       "      <td>0</td>\n",
       "      <td>1</td>\n",
       "      <td>163</td>\n",
       "      <td>1</td>\n",
       "      <td>0.6</td>\n",
       "      <td>2</td>\n",
       "      <td>0</td>\n",
       "      <td>2</td>\n",
       "    </tr>\n",
       "  </tbody>\n",
       "</table>\n",
       "</div>"
      ],
      "text/plain": [
       "   age  sex  cp  trtbps  chol  fbs  restecg  thalachh  exng  oldpeak  slp  \\\n",
       "0   63    1   3     145   233    1        0       150     0      2.3    0   \n",
       "1   37    1   2     130   250    0        1       187     0      3.5    0   \n",
       "2   41    0   1     130   204    0        0       172     0      1.4    2   \n",
       "3   56    1   1     120   236    0        1       178     0      0.8    2   \n",
       "4   57    0   0     120   354    0        1       163     1      0.6    2   \n",
       "\n",
       "   caa  thall  \n",
       "0    0      1  \n",
       "1    0      2  \n",
       "2    0      2  \n",
       "3    0      2  \n",
       "4    0      2  "
      ]
     },
     "execution_count": 27,
     "metadata": {},
     "output_type": "execute_result"
    }
   ],
   "source": [
    "x=X.columns.to_list()\n",
    "for i in x:\n",
    "    X[i]=NullClearner(X[i])\n",
    "X=EncodeX(X)\n",
    "X.head()"
   ]
  },
  {
   "cell_type": "markdown",
   "metadata": {
    "papermill": {
     "duration": 0.030467,
     "end_time": "2021-09-15T16:26:44.529882",
     "exception": false,
     "start_time": "2021-09-15T16:26:44.499415",
     "status": "completed"
    },
    "tags": []
   },
   "source": [
    "\n",
    "### Data Scaling\n",
    "**Used MinMaxScaler**\n",
    "\n",
    "* Transform features by scaling each feature to a given range.\n",
    "\n",
    "* This estimator scales and translates each feature individually such that it is in the given range on the training set, e.g. between zero and one."
   ]
  },
  {
   "cell_type": "code",
   "execution_count": 28,
   "metadata": {
    "execution": {
     "iopub.execute_input": "2021-09-15T16:33:36.994033Z",
     "iopub.status.busy": "2021-09-15T16:33:36.993210Z",
     "iopub.status.idle": "2021-09-15T16:33:37.020881Z",
     "shell.execute_reply": "2021-09-15T16:33:37.020204Z",
     "shell.execute_reply.started": "2021-09-15T16:33:36.993992Z"
    },
    "papermill": {
     "duration": 0.060055,
     "end_time": "2021-09-15T16:26:44.620343",
     "exception": false,
     "start_time": "2021-09-15T16:26:44.560288",
     "status": "completed"
    },
    "tags": []
   },
   "outputs": [
    {
     "data": {
      "text/html": [
       "<div>\n",
       "<style scoped>\n",
       "    .dataframe tbody tr th:only-of-type {\n",
       "        vertical-align: middle;\n",
       "    }\n",
       "\n",
       "    .dataframe tbody tr th {\n",
       "        vertical-align: top;\n",
       "    }\n",
       "\n",
       "    .dataframe thead th {\n",
       "        text-align: right;\n",
       "    }\n",
       "</style>\n",
       "<table border=\"1\" class=\"dataframe\">\n",
       "  <thead>\n",
       "    <tr style=\"text-align: right;\">\n",
       "      <th></th>\n",
       "      <th>age</th>\n",
       "      <th>sex</th>\n",
       "      <th>cp</th>\n",
       "      <th>trtbps</th>\n",
       "      <th>chol</th>\n",
       "      <th>fbs</th>\n",
       "      <th>restecg</th>\n",
       "      <th>thalachh</th>\n",
       "      <th>exng</th>\n",
       "      <th>oldpeak</th>\n",
       "      <th>slp</th>\n",
       "      <th>caa</th>\n",
       "      <th>thall</th>\n",
       "    </tr>\n",
       "  </thead>\n",
       "  <tbody>\n",
       "    <tr>\n",
       "      <th>0</th>\n",
       "      <td>0.708333</td>\n",
       "      <td>1.0</td>\n",
       "      <td>1.000000</td>\n",
       "      <td>0.481132</td>\n",
       "      <td>0.244292</td>\n",
       "      <td>1.0</td>\n",
       "      <td>0.0</td>\n",
       "      <td>0.603053</td>\n",
       "      <td>0.0</td>\n",
       "      <td>0.370968</td>\n",
       "      <td>0.0</td>\n",
       "      <td>0.0</td>\n",
       "      <td>0.333333</td>\n",
       "    </tr>\n",
       "    <tr>\n",
       "      <th>1</th>\n",
       "      <td>0.166667</td>\n",
       "      <td>1.0</td>\n",
       "      <td>0.666667</td>\n",
       "      <td>0.339623</td>\n",
       "      <td>0.283105</td>\n",
       "      <td>0.0</td>\n",
       "      <td>0.5</td>\n",
       "      <td>0.885496</td>\n",
       "      <td>0.0</td>\n",
       "      <td>0.564516</td>\n",
       "      <td>0.0</td>\n",
       "      <td>0.0</td>\n",
       "      <td>0.666667</td>\n",
       "    </tr>\n",
       "    <tr>\n",
       "      <th>2</th>\n",
       "      <td>0.250000</td>\n",
       "      <td>0.0</td>\n",
       "      <td>0.333333</td>\n",
       "      <td>0.339623</td>\n",
       "      <td>0.178082</td>\n",
       "      <td>0.0</td>\n",
       "      <td>0.0</td>\n",
       "      <td>0.770992</td>\n",
       "      <td>0.0</td>\n",
       "      <td>0.225806</td>\n",
       "      <td>1.0</td>\n",
       "      <td>0.0</td>\n",
       "      <td>0.666667</td>\n",
       "    </tr>\n",
       "    <tr>\n",
       "      <th>3</th>\n",
       "      <td>0.562500</td>\n",
       "      <td>1.0</td>\n",
       "      <td>0.333333</td>\n",
       "      <td>0.245283</td>\n",
       "      <td>0.251142</td>\n",
       "      <td>0.0</td>\n",
       "      <td>0.5</td>\n",
       "      <td>0.816794</td>\n",
       "      <td>0.0</td>\n",
       "      <td>0.129032</td>\n",
       "      <td>1.0</td>\n",
       "      <td>0.0</td>\n",
       "      <td>0.666667</td>\n",
       "    </tr>\n",
       "    <tr>\n",
       "      <th>4</th>\n",
       "      <td>0.583333</td>\n",
       "      <td>0.0</td>\n",
       "      <td>0.000000</td>\n",
       "      <td>0.245283</td>\n",
       "      <td>0.520548</td>\n",
       "      <td>0.0</td>\n",
       "      <td>0.5</td>\n",
       "      <td>0.702290</td>\n",
       "      <td>1.0</td>\n",
       "      <td>0.096774</td>\n",
       "      <td>1.0</td>\n",
       "      <td>0.0</td>\n",
       "      <td>0.666667</td>\n",
       "    </tr>\n",
       "  </tbody>\n",
       "</table>\n",
       "</div>"
      ],
      "text/plain": [
       "        age  sex        cp    trtbps      chol  fbs  restecg  thalachh  exng  \\\n",
       "0  0.708333  1.0  1.000000  0.481132  0.244292  1.0      0.0  0.603053   0.0   \n",
       "1  0.166667  1.0  0.666667  0.339623  0.283105  0.0      0.5  0.885496   0.0   \n",
       "2  0.250000  0.0  0.333333  0.339623  0.178082  0.0      0.0  0.770992   0.0   \n",
       "3  0.562500  1.0  0.333333  0.245283  0.251142  0.0      0.5  0.816794   0.0   \n",
       "4  0.583333  0.0  0.000000  0.245283  0.520548  0.0      0.5  0.702290   1.0   \n",
       "\n",
       "    oldpeak  slp  caa     thall  \n",
       "0  0.370968  0.0  0.0  0.333333  \n",
       "1  0.564516  0.0  0.0  0.666667  \n",
       "2  0.225806  1.0  0.0  0.666667  \n",
       "3  0.129032  1.0  0.0  0.666667  \n",
       "4  0.096774  1.0  0.0  0.666667  "
      ]
     },
     "execution_count": 28,
     "metadata": {},
     "output_type": "execute_result"
    }
   ],
   "source": [
    "X_Scaled=MinMaxScaler().fit_transform(X)\n",
    "X_Scaled=pd.DataFrame(data = X_Scaled,columns = X.columns)\n",
    "X_Scaled.head()"
   ]
  },
  {
   "cell_type": "markdown",
   "metadata": {
    "papermill": {
     "duration": 0.032131,
     "end_time": "2021-09-15T16:26:44.684413",
     "exception": false,
     "start_time": "2021-09-15T16:26:44.652282",
     "status": "completed"
    },
    "tags": []
   },
   "source": [
    "### Data Splitting\n",
    "The train-test split is a procedure for evaluating the performance of an algorithm. The procedure involves taking a dataset and dividing it into two subsets. The first subset is utilized to fit/train the model. The second subset is used for prediction. The main motive is to estimate the performance of the model on new data."
   ]
  },
  {
   "cell_type": "code",
   "execution_count": 29,
   "metadata": {
    "execution": {
     "iopub.execute_input": "2021-09-15T16:33:37.964951Z",
     "iopub.status.busy": "2021-09-15T16:33:37.964152Z",
     "iopub.status.idle": "2021-09-15T16:33:37.971186Z",
     "shell.execute_reply": "2021-09-15T16:33:37.970208Z",
     "shell.execute_reply.started": "2021-09-15T16:33:37.964912Z"
    },
    "papermill": {
     "duration": 0.043823,
     "end_time": "2021-09-15T16:26:44.760443",
     "exception": false,
     "start_time": "2021-09-15T16:26:44.716620",
     "status": "completed"
    },
    "tags": []
   },
   "outputs": [],
   "source": [
    "x_train,x_test=train_test_split(X_Scaled,test_size=0.2,random_state=123) #performing datasplitting"
   ]
  },
  {
   "cell_type": "markdown",
   "metadata": {
    "papermill": {
     "duration": 0.030741,
     "end_time": "2021-09-15T16:26:44.822855",
     "exception": false,
     "start_time": "2021-09-15T16:26:44.792114",
     "status": "completed"
    },
    "tags": []
   },
   "source": [
    "## Model\n",
    "\n",
    "Deep One-Class Classifier with AutoEncoder (AE) is a type of neural networks for learning useful data representations in an unsupervised way. DeepSVDD trains a neural network while minimizing the volume of a hypersphere that encloses the network representations of the data, forcing the network to extract the common factors of variation\n",
    "\n",
    "**Tuning parameters :**\n",
    "\n",
    "* c (float, optional (default='forwad_nn_pass'))\n",
    "\n",
    "Deep SVDD center, the default will be calculated based on network initialization first forward pass. To get repeated results set random_state if c is set to None.\n",
    "\n",
    "* use_ae (bool, optional (default=False)\n",
    "\n",
    "The AutoEncoder type of DeepSVDD it reverse neurons from hidden_neurons if set to True.\n",
    "\n",
    "* hidden_neurons (list, optional (default=[64, 32]))\n",
    "\n",
    "The number of neurons per hidden layers. if use_ae is True, neurons will be reversed eg. [64, 32] -> [64, 32, 32, 64, n_features]\n",
    "\n",
    "* hidden_activation (str, optional (default='relu'))\n",
    "\n",
    "Activation function to use for hidden layers. All hidden layers are forced to use the same type of activation. See https://keras.io/activations/\n",
    "\n",
    "* output_activation (str, optional (default='sigmoid'))\n",
    "\n",
    "Activation function to use for output layer. See https://keras.io/activations/\n",
    "\n",
    "* optimizer (str, optional (default='adam'))\n",
    "\n",
    "* String (name of optimizer) or optimizer instance. See https://keras.io/optimizers/\n",
    "\n",
    "* epochs (int, optional (default=100))\n",
    "\n",
    "Number of epochs to train the model.\n",
    "\n",
    "* batch_size (int, optional (default=32))\n",
    "\n",
    "Number of samples per gradient update.\n",
    "\n",
    "* contamination (float in (0., 0.5), optional (default=0.1))\n",
    "\n",
    "The amount of contamination of the data set, i.e. the proportion of outliers in the data set. When fitting this is used to define the threshold on the decision function.\n",
    "\n"
   ]
  },
  {
   "cell_type": "code",
   "execution_count": 30,
   "metadata": {
    "execution": {
     "iopub.execute_input": "2021-09-15T16:33:40.144522Z",
     "iopub.status.busy": "2021-09-15T16:33:40.144085Z",
     "iopub.status.idle": "2021-09-15T16:33:41.978861Z",
     "shell.execute_reply": "2021-09-15T16:33:41.977738Z",
     "shell.execute_reply.started": "2021-09-15T16:33:40.144490Z"
    },
    "papermill": {
     "duration": 3.102496,
     "end_time": "2021-09-15T16:26:47.956239",
     "exception": false,
     "start_time": "2021-09-15T16:26:44.853743",
     "status": "completed"
    },
    "tags": []
   },
   "outputs": [
    {
     "name": "stdout",
     "output_type": "stream",
     "text": [
      "Model: \"model_5\"\n",
      "_________________________________________________________________\n",
      "Layer (type)                 Output Shape              Param #   \n",
      "=================================================================\n",
      "input_4 (InputLayer)         [(None, 13)]              0         \n",
      "_________________________________________________________________\n",
      "dense_3 (Dense)              (None, 64)                896       \n",
      "_________________________________________________________________\n",
      "net_output (Dense)           (None, 32)                2080      \n",
      "_________________________________________________________________\n",
      "tf.math.subtract_3 (TFOpLamb (None, 32)                0         \n",
      "_________________________________________________________________\n",
      "tf.math.pow_3 (TFOpLambda)   (None, 32)                0         \n",
      "_________________________________________________________________\n",
      "tf.math.reduce_sum_3 (TFOpLa (None,)                   0         \n",
      "_________________________________________________________________\n",
      "tf.math.reduce_mean_3 (TFOpL ()                        0         \n",
      "_________________________________________________________________\n",
      "tf.__operators__.add_3 (TFOp ()                        0         \n",
      "_________________________________________________________________\n",
      "add_loss_3 (AddLoss)         ()                        0         \n",
      "=================================================================\n",
      "Total params: 2,976\n",
      "Trainable params: 2,976\n",
      "Non-trainable params: 0\n",
      "_________________________________________________________________\n",
      "None\n",
      "Epoch 1/10\n",
      "14/14 [==============================] - 1s 22ms/step - loss: 4.0494 - val_loss: 2.6812\n",
      "Epoch 2/10\n",
      "14/14 [==============================] - 0s 6ms/step - loss: 2.7181 - val_loss: 2.0622\n",
      "Epoch 3/10\n",
      "14/14 [==============================] - 0s 6ms/step - loss: 2.0818 - val_loss: 1.7687\n",
      "Epoch 4/10\n",
      "14/14 [==============================] - 0s 6ms/step - loss: 1.8302 - val_loss: 1.5588\n",
      "Epoch 5/10\n",
      "14/14 [==============================] - 0s 6ms/step - loss: 1.6343 - val_loss: 1.4267\n",
      "Epoch 6/10\n",
      "14/14 [==============================] - 0s 6ms/step - loss: 1.5111 - val_loss: 1.3216\n",
      "Epoch 7/10\n",
      "14/14 [==============================] - 0s 6ms/step - loss: 1.4182 - val_loss: 1.2342\n",
      "Epoch 8/10\n",
      "14/14 [==============================] - 0s 7ms/step - loss: 1.3002 - val_loss: 1.1602\n",
      "Epoch 9/10\n",
      "14/14 [==============================] - 0s 6ms/step - loss: 1.2032 - val_loss: 1.0927\n",
      "Epoch 10/10\n",
      "14/14 [==============================] - 0s 6ms/step - loss: 1.0963 - val_loss: 1.0340\n"
     ]
    },
    {
     "data": {
      "text/plain": [
       "DeepSVDD(batch_size=16,\n",
       "     c=array([0.18298, 0.48618, 0.17132, 0.17341, 0.17941, 0.1    , 0.293  ,\n",
       "       0.16399, 0.1    , 0.1    , 0.16882, 0.15442, 0.1    , 0.15449,\n",
       "       0.1596 , 0.12532, 0.11971, 0.1    , 0.22171, 0.23047, 0.33986,\n",
       "       0.1    , 0.28539, 0.1    , 0.1    , 0.11011, 0.13391, 0.1    ,\n",
       "       0.1    , 0.21563, 0.44134, 0.13589], dtype=float32),\n",
       "     contamination=0.1, dropout_rate=0.2, epochs=10,\n",
       "     hidden_activation='relu', hidden_neurons=[64, 32], l2_regularizer=0.1,\n",
       "     optimizer='adam', output_activation='sigmoid', preprocessing=True,\n",
       "     random_state=None, use_ae=False, validation_size=0.1, verbose=1)"
      ]
     },
     "execution_count": 30,
     "metadata": {},
     "output_type": "execute_result"
    }
   ],
   "source": [
    "model = DeepSVDD(contamination=0.1, epochs=10, batch_size=16)\n",
    "model.fit(x_train)"
   ]
  },
  {
   "cell_type": "markdown",
   "metadata": {
    "papermill": {
     "duration": 0.041521,
     "end_time": "2021-09-15T16:26:48.038959",
     "exception": false,
     "start_time": "2021-09-15T16:26:47.997438",
     "status": "completed"
    },
    "tags": []
   },
   "source": [
    "### Anomaly Prediction"
   ]
  },
  {
   "cell_type": "code",
   "execution_count": 31,
   "metadata": {
    "execution": {
     "iopub.execute_input": "2021-09-15T16:34:09.064887Z",
     "iopub.status.busy": "2021-09-15T16:34:09.064195Z",
     "iopub.status.idle": "2021-09-15T16:34:09.138400Z",
     "shell.execute_reply": "2021-09-15T16:34:09.137582Z",
     "shell.execute_reply.started": "2021-09-15T16:34:09.064846Z"
    },
    "papermill": {
     "duration": 0.11461,
     "end_time": "2021-09-15T16:26:48.195330",
     "exception": false,
     "start_time": "2021-09-15T16:26:48.080720",
     "status": "completed"
    },
    "tags": []
   },
   "outputs": [
    {
     "data": {
      "text/html": [
       "<div>\n",
       "<style scoped>\n",
       "    .dataframe tbody tr th:only-of-type {\n",
       "        vertical-align: middle;\n",
       "    }\n",
       "\n",
       "    .dataframe tbody tr th {\n",
       "        vertical-align: top;\n",
       "    }\n",
       "\n",
       "    .dataframe thead th {\n",
       "        text-align: right;\n",
       "    }\n",
       "</style>\n",
       "<table border=\"1\" class=\"dataframe\">\n",
       "  <thead>\n",
       "    <tr style=\"text-align: right;\">\n",
       "      <th></th>\n",
       "      <th>age</th>\n",
       "      <th>sex</th>\n",
       "      <th>cp</th>\n",
       "      <th>trtbps</th>\n",
       "      <th>chol</th>\n",
       "      <th>fbs</th>\n",
       "      <th>restecg</th>\n",
       "      <th>thalachh</th>\n",
       "      <th>exng</th>\n",
       "      <th>oldpeak</th>\n",
       "      <th>slp</th>\n",
       "      <th>caa</th>\n",
       "      <th>thall</th>\n",
       "      <th>Anomaly</th>\n",
       "    </tr>\n",
       "  </thead>\n",
       "  <tbody>\n",
       "    <tr>\n",
       "      <th>11</th>\n",
       "      <td>0.395833</td>\n",
       "      <td>0.0</td>\n",
       "      <td>0.666667</td>\n",
       "      <td>0.339623</td>\n",
       "      <td>0.340183</td>\n",
       "      <td>0.0</td>\n",
       "      <td>0.5</td>\n",
       "      <td>0.519084</td>\n",
       "      <td>0.0</td>\n",
       "      <td>0.032258</td>\n",
       "      <td>1.0</td>\n",
       "      <td>0.0</td>\n",
       "      <td>0.666667</td>\n",
       "      <td>0</td>\n",
       "    </tr>\n",
       "    <tr>\n",
       "      <th>292</th>\n",
       "      <td>0.604167</td>\n",
       "      <td>0.0</td>\n",
       "      <td>0.000000</td>\n",
       "      <td>0.716981</td>\n",
       "      <td>0.226027</td>\n",
       "      <td>1.0</td>\n",
       "      <td>0.0</td>\n",
       "      <td>0.572519</td>\n",
       "      <td>1.0</td>\n",
       "      <td>0.451613</td>\n",
       "      <td>0.5</td>\n",
       "      <td>0.5</td>\n",
       "      <td>0.333333</td>\n",
       "      <td>1</td>\n",
       "    </tr>\n",
       "    <tr>\n",
       "      <th>269</th>\n",
       "      <td>0.562500</td>\n",
       "      <td>1.0</td>\n",
       "      <td>0.000000</td>\n",
       "      <td>0.339623</td>\n",
       "      <td>0.358447</td>\n",
       "      <td>1.0</td>\n",
       "      <td>0.0</td>\n",
       "      <td>0.244275</td>\n",
       "      <td>1.0</td>\n",
       "      <td>0.258065</td>\n",
       "      <td>0.0</td>\n",
       "      <td>0.0</td>\n",
       "      <td>1.000000</td>\n",
       "      <td>1</td>\n",
       "    </tr>\n",
       "    <tr>\n",
       "      <th>268</th>\n",
       "      <td>0.520833</td>\n",
       "      <td>1.0</td>\n",
       "      <td>0.000000</td>\n",
       "      <td>0.264151</td>\n",
       "      <td>0.365297</td>\n",
       "      <td>0.0</td>\n",
       "      <td>0.0</td>\n",
       "      <td>0.343511</td>\n",
       "      <td>1.0</td>\n",
       "      <td>0.516129</td>\n",
       "      <td>0.5</td>\n",
       "      <td>0.5</td>\n",
       "      <td>0.666667</td>\n",
       "      <td>0</td>\n",
       "    </tr>\n",
       "    <tr>\n",
       "      <th>94</th>\n",
       "      <td>0.333333</td>\n",
       "      <td>0.0</td>\n",
       "      <td>0.333333</td>\n",
       "      <td>0.169811</td>\n",
       "      <td>0.077626</td>\n",
       "      <td>0.0</td>\n",
       "      <td>0.5</td>\n",
       "      <td>0.511450</td>\n",
       "      <td>0.0</td>\n",
       "      <td>0.000000</td>\n",
       "      <td>0.5</td>\n",
       "      <td>0.0</td>\n",
       "      <td>0.666667</td>\n",
       "      <td>0</td>\n",
       "    </tr>\n",
       "  </tbody>\n",
       "</table>\n",
       "</div>"
      ],
      "text/plain": [
       "          age  sex        cp    trtbps      chol  fbs  restecg  thalachh  \\\n",
       "11   0.395833  0.0  0.666667  0.339623  0.340183  0.0      0.5  0.519084   \n",
       "292  0.604167  0.0  0.000000  0.716981  0.226027  1.0      0.0  0.572519   \n",
       "269  0.562500  1.0  0.000000  0.339623  0.358447  1.0      0.0  0.244275   \n",
       "268  0.520833  1.0  0.000000  0.264151  0.365297  0.0      0.0  0.343511   \n",
       "94   0.333333  0.0  0.333333  0.169811  0.077626  0.0      0.5  0.511450   \n",
       "\n",
       "     exng   oldpeak  slp  caa     thall  Anomaly  \n",
       "11    0.0  0.032258  1.0  0.0  0.666667        0  \n",
       "292   1.0  0.451613  0.5  0.5  0.333333        1  \n",
       "269   1.0  0.258065  0.0  0.0  1.000000        1  \n",
       "268   1.0  0.516129  0.5  0.5  0.666667        0  \n",
       "94    0.0  0.000000  0.5  0.0  0.666667        0  "
      ]
     },
     "execution_count": 31,
     "metadata": {},
     "output_type": "execute_result"
    }
   ],
   "source": [
    "result=x_test.copy(deep=True)\n",
    "result['Anomaly']=model.predict(x_test)\n",
    "result.head()\n"
   ]
  },
  {
   "cell_type": "markdown",
   "metadata": {
    "papermill": {
     "duration": 0.040537,
     "end_time": "2021-09-15T16:26:48.278262",
     "exception": false,
     "start_time": "2021-09-15T16:26:48.237725",
     "status": "completed"
    },
    "tags": []
   },
   "source": [
    "### Anomaly Visualization\n",
    "#### Bar Plot"
   ]
  },
  {
   "cell_type": "code",
   "execution_count": 32,
   "metadata": {
    "execution": {
     "iopub.execute_input": "2021-09-15T16:34:09.969710Z",
     "iopub.status.busy": "2021-09-15T16:34:09.969402Z",
     "iopub.status.idle": "2021-09-15T16:34:10.212732Z",
     "shell.execute_reply": "2021-09-15T16:34:10.211624Z",
     "shell.execute_reply.started": "2021-09-15T16:34:09.969679Z"
    },
    "papermill": {
     "duration": 0.275411,
     "end_time": "2021-09-15T16:26:48.594248",
     "exception": false,
     "start_time": "2021-09-15T16:26:48.318837",
     "status": "completed"
    },
    "tags": []
   },
   "outputs": [
    {
     "data": {
      "text/plain": [
       "<AxesSubplot:>"
      ]
     },
     "execution_count": 32,
     "metadata": {},
     "output_type": "execute_result"
    },
    {
     "data": {
      "image/png": "[encoded data removed]",
      "text/plain": [
       "<Figure size 1440x720 with 1 Axes>"
      ]
     },
     "metadata": {
      "needs_background": "light"
     },
     "output_type": "display_data"
    }
   ],
   "source": [
    "result['Anomaly'].value_counts().plot(kind='bar',color=['green','red'])"
   ]
  },
  {
   "cell_type": "markdown",
   "metadata": {
    "papermill": {
     "duration": 0.040966,
     "end_time": "2021-09-15T16:26:48.676541",
     "exception": false,
     "start_time": "2021-09-15T16:26:48.635575",
     "status": "completed"
    },
    "tags": []
   },
   "source": [
    "#### Pie Chart"
   ]
  },
  {
   "cell_type": "code",
   "execution_count": 33,
   "metadata": {
    "execution": {
     "iopub.execute_input": "2021-09-15T16:34:10.690351Z",
     "iopub.status.busy": "2021-09-15T16:34:10.689547Z",
     "iopub.status.idle": "2021-09-15T16:34:10.751948Z",
     "shell.execute_reply": "2021-09-15T16:34:10.751247Z",
     "shell.execute_reply.started": "2021-09-15T16:34:10.690298Z"
    },
    "papermill": {
     "duration": 1.005785,
     "end_time": "2021-09-15T16:26:49.723408",
     "exception": false,
     "start_time": "2021-09-15T16:26:48.717623",
     "status": "completed"
    },
    "tags": []
   },
   "outputs": [
    {
     "data": {
      "text/html": [
       "<div>                            <div id=\"21bbcfb9-1ec4-451b-b47e-1f0d9aa40573\" class=\"plotly-graph-div\" style=\"height:525px; width:100%;\"></div>            <script type=\"text/javascript\">                require([\"plotly\"], function(Plotly) {                    window.PLOTLYENV=window.PLOTLYENV || {};                                    if (document.getElementById(\"21bbcfb9-1ec4-451b-b47e-1f0d9aa40573\")) {                    Plotly.newPlot(                        \"21bbcfb9-1ec4-451b-b47e-1f0d9aa40573\",                        [{\"domain\":{\"x\":[0.0,1.0],\"y\":[0.0,1.0]},\"hovertemplate\":\"label=%{label}<extra></extra>\",\"labels\":[0,1,1,0,0,0,0,0,0,0,0,0,0,0,0,1,1,1,0,0,0,1,0,0,1,1,1,0,1,1,0,0,0,1,1,0,0,0,0,0,0,0,1,0,0,0,0,0,0,0,0,0,0,0,0,0,0,0,1,1,0],\"legendgroup\":\"\",\"name\":\"\",\"showlegend\":true,\"type\":\"pie\"}],                        {\"legend\":{\"tracegroupgap\":0},\"template\":{\"data\":{\"bar\":[{\"error_x\":{\"color\":\"#2a3f5f\"},\"error_y\":{\"color\":\"#2a3f5f\"},\"marker\":{\"line\":{\"color\":\"#E5ECF6\",\"width\":0.5},\"pattern\":{\"fillmode\":\"overlay\",\"size\":10,\"solidity\":0.2}},\"type\":\"bar\"}],\"barpolar\":[{\"marker\":{\"line\":{\"color\":\"#E5ECF6\",\"width\":0.5},\"pattern\":{\"fillmode\":\"overlay\",\"size\":10,\"solidity\":0.2}},\"type\":\"barpolar\"}],\"carpet\":[{\"aaxis\":{\"endlinecolor\":\"#2a3f5f\",\"gridcolor\":\"white\",\"linecolor\":\"white\",\"minorgridcolor\":\"white\",\"startlinecolor\":\"#2a3f5f\"},\"baxis\":{\"endlinecolor\":\"#2a3f5f\",\"gridcolor\":\"white\",\"linecolor\":\"white\",\"minorgridcolor\":\"white\",\"startlinecolor\":\"#2a3f5f\"},\"type\":\"carpet\"}],\"choropleth\":[{\"colorbar\":{\"outlinewidth\":0,\"ticks\":\"\"},\"type\":\"choropleth\"}],\"contour\":[{\"colorbar\":{\"outlinewidth\":0,\"ticks\":\"\"},\"colorscale\":[[0.0,\"#0d0887\"],[0.1111111111111111,\"#46039f\"],[0.2222222222222222,\"#7201a8\"],[0.3333333333333333,\"#9c179e\"],[0.4444444444444444,\"#bd3786\"],[0.5555555555555556,\"#d8576b\"],[0.6666666666666666,\"#ed7953\"],[0.7777777777777778,\"#fb9f3a\"],[0.8888888888888888,\"#fdca26\"],[1.0,\"#f0f921\"]],\"type\":\"contour\"}],\"contourcarpet\":[{\"colorbar\":{\"outlinewidth\":0,\"ticks\":\"\"},\"type\":\"contourcarpet\"}],\"heatmap\":[{\"colorbar\":{\"outlinewidth\":0,\"ticks\":\"\"},\"colorscale\":[[0.0,\"#0d0887\"],[0.1111111111111111,\"#46039f\"],[0.2222222222222222,\"#7201a8\"],[0.3333333333333333,\"#9c179e\"],[0.4444444444444444,\"#bd3786\"],[0.5555555555555556,\"#d8576b\"],[0.6666666666666666,\"#ed7953\"],[0.7777777777777778,\"#fb9f3a\"],[0.8888888888888888,\"#fdca26\"],[1.0,\"#f0f921\"]],\"type\":\"heatmap\"}],\"heatmapgl\":[{\"colorbar\":{\"outlinewidth\":0,\"ticks\":\"\"},\"colorscale\":[[0.0,\"#0d0887\"],[0.1111111111111111,\"#46039f\"],[0.2222222222222222,\"#7201a8\"],[0.3333333333333333,\"#9c179e\"],[0.4444444444444444,\"#bd3786\"],[0.5555555555555556,\"#d8576b\"],[0.6666666666666666,\"#ed7953\"],[0.7777777777777778,\"#fb9f3a\"],[0.8888888888888888,\"#fdca26\"],[1.0,\"#f0f921\"]],\"type\":\"heatmapgl\"}],\"histogram\":[{\"marker\":{\"pattern\":{\"fillmode\":\"overlay\",\"size\":10,\"solidity\":0.2}},\"type\":\"histogram\"}],\"histogram2d\":[{\"colorbar\":{\"outlinewidth\":0,\"ticks\":\"\"},\"colorscale\":[[0.0,\"#0d0887\"],[0.1111111111111111,\"#46039f\"],[0.2222222222222222,\"#7201a8\"],[0.3333333333333333,\"#9c179e\"],[0.4444444444444444,\"#bd3786\"],[0.5555555555555556,\"#d8576b\"],[0.6666666666666666,\"#ed7953\"],[0.7777777777777778,\"#fb9f3a\"],[0.8888888888888888,\"#fdca26\"],[1.0,\"#f0f921\"]],\"type\":\"histogram2d\"}],\"histogram2dcontour\":[{\"colorbar\":{\"outlinewidth\":0,\"ticks\":\"\"},\"colorscale\":[[0.0,\"#0d0887\"],[0.1111111111111111,\"#46039f\"],[0.2222222222222222,\"#7201a8\"],[0.3333333333333333,\"#9c179e\"],[0.4444444444444444,\"#bd3786\"],[0.5555555555555556,\"#d8576b\"],[0.6666666666666666,\"#ed7953\"],[0.7777777777777778,\"#fb9f3a\"],[0.8888888888888888,\"#fdca26\"],[1.0,\"#f0f921\"]],\"type\":\"histogram2dcontour\"}],\"mesh3d\":[{\"colorbar\":{\"outlinewidth\":0,\"ticks\":\"\"},\"type\":\"mesh3d\"}],\"parcoords\":[{\"line\":{\"colorbar\":{\"outlinewidth\":0,\"ticks\":\"\"}},\"type\":\"parcoords\"}],\"pie\":[{\"automargin\":true,\"type\":\"pie\"}],\"scatter\":[{\"marker\":{\"colorbar\":{\"outlinewidth\":0,\"ticks\":\"\"}},\"type\":\"scatter\"}],\"scatter3d\":[{\"line\":{\"colorbar\":{\"outlinewidth\":0,\"ticks\":\"\"}},\"marker\":{\"colorbar\":{\"outlinewidth\":0,\"ticks\":\"\"}},\"type\":\"scatter3d\"}],\"scattercarpet\":[{\"marker\":{\"colorbar\":{\"outlinewidth\":0,\"ticks\":\"\"}},\"type\":\"scattercarpet\"}],\"scattergeo\":[{\"marker\":{\"colorbar\":{\"outlinewidth\":0,\"ticks\":\"\"}},\"type\":\"scattergeo\"}],\"scattergl\":[{\"marker\":{\"colorbar\":{\"outlinewidth\":0,\"ticks\":\"\"}},\"type\":\"scattergl\"}],\"scattermapbox\":[{\"marker\":{\"colorbar\":{\"outlinewidth\":0,\"ticks\":\"\"}},\"type\":\"scattermapbox\"}],\"scatterpolar\":[{\"marker\":{\"colorbar\":{\"outlinewidth\":0,\"ticks\":\"\"}},\"type\":\"scatterpolar\"}],\"scatterpolargl\":[{\"marker\":{\"colorbar\":{\"outlinewidth\":0,\"ticks\":\"\"}},\"type\":\"scatterpolargl\"}],\"scatterternary\":[{\"marker\":{\"colorbar\":{\"outlinewidth\":0,\"ticks\":\"\"}},\"type\":\"scatterternary\"}],\"surface\":[{\"colorbar\":{\"outlinewidth\":0,\"ticks\":\"\"},\"colorscale\":[[0.0,\"#0d0887\"],[0.1111111111111111,\"#46039f\"],[0.2222222222222222,\"#7201a8\"],[0.3333333333333333,\"#9c179e\"],[0.4444444444444444,\"#bd3786\"],[0.5555555555555556,\"#d8576b\"],[0.6666666666666666,\"#ed7953\"],[0.7777777777777778,\"#fb9f3a\"],[0.8888888888888888,\"#fdca26\"],[1.0,\"#f0f921\"]],\"type\":\"surface\"}],\"table\":[{\"cells\":{\"fill\":{\"color\":\"#EBF0F8\"},\"line\":{\"color\":\"white\"}},\"header\":{\"fill\":{\"color\":\"#C8D4E3\"},\"line\":{\"color\":\"white\"}},\"type\":\"table\"}]},\"layout\":{\"annotationdefaults\":{\"arrowcolor\":\"#2a3f5f\",\"arrowhead\":0,\"arrowwidth\":1},\"autotypenumbers\":\"strict\",\"coloraxis\":{\"colorbar\":{\"outlinewidth\":0,\"ticks\":\"\"}},\"colorscale\":{\"diverging\":[[0,\"#8e0152\"],[0.1,\"#c51b7d\"],[0.2,\"#de77ae\"],[0.3,\"#f1b6da\"],[0.4,\"#fde0ef\"],[0.5,\"#f7f7f7\"],[0.6,\"#e6f5d0\"],[0.7,\"#b8e186\"],[0.8,\"#7fbc41\"],[0.9,\"#4d9221\"],[1,\"#276419\"]],\"sequential\":[[0.0,\"#0d0887\"],[0.1111111111111111,\"#46039f\"],[0.2222222222222222,\"#7201a8\"],[0.3333333333333333,\"#9c179e\"],[0.4444444444444444,\"#bd3786\"],[0.5555555555555556,\"#d8576b\"],[0.6666666666666666,\"#ed7953\"],[0.7777777777777778,\"#fb9f3a\"],[0.8888888888888888,\"#fdca26\"],[1.0,\"#f0f921\"]],\"sequentialminus\":[[0.0,\"#0d0887\"],[0.1111111111111111,\"#46039f\"],[0.2222222222222222,\"#7201a8\"],[0.3333333333333333,\"#9c179e\"],[0.4444444444444444,\"#bd3786\"],[0.5555555555555556,\"#d8576b\"],[0.6666666666666666,\"#ed7953\"],[0.7777777777777778,\"#fb9f3a\"],[0.8888888888888888,\"#fdca26\"],[1.0,\"#f0f921\"]]},\"colorway\":[\"#636efa\",\"#EF553B\",\"#00cc96\",\"#ab63fa\",\"#FFA15A\",\"#19d3f3\",\"#FF6692\",\"#B6E880\",\"#FF97FF\",\"#FECB52\"],\"font\":{\"color\":\"#2a3f5f\"},\"geo\":{\"bgcolor\":\"white\",\"lakecolor\":\"white\",\"landcolor\":\"#E5ECF6\",\"showlakes\":true,\"showland\":true,\"subunitcolor\":\"white\"},\"hoverlabel\":{\"align\":\"left\"},\"hovermode\":\"closest\",\"mapbox\":{\"style\":\"light\"},\"paper_bgcolor\":\"white\",\"plot_bgcolor\":\"#E5ECF6\",\"polar\":{\"angularaxis\":{\"gridcolor\":\"white\",\"linecolor\":\"white\",\"ticks\":\"\"},\"bgcolor\":\"#E5ECF6\",\"radialaxis\":{\"gridcolor\":\"white\",\"linecolor\":\"white\",\"ticks\":\"\"}},\"scene\":{\"xaxis\":{\"backgroundcolor\":\"#E5ECF6\",\"gridcolor\":\"white\",\"gridwidth\":2,\"linecolor\":\"white\",\"showbackground\":true,\"ticks\":\"\",\"zerolinecolor\":\"white\"},\"yaxis\":{\"backgroundcolor\":\"#E5ECF6\",\"gridcolor\":\"white\",\"gridwidth\":2,\"linecolor\":\"white\",\"showbackground\":true,\"ticks\":\"\",\"zerolinecolor\":\"white\"},\"zaxis\":{\"backgroundcolor\":\"#E5ECF6\",\"gridcolor\":\"white\",\"gridwidth\":2,\"linecolor\":\"white\",\"showbackground\":true,\"ticks\":\"\",\"zerolinecolor\":\"white\"}},\"shapedefaults\":{\"line\":{\"color\":\"#2a3f5f\"}},\"ternary\":{\"aaxis\":{\"gridcolor\":\"white\",\"linecolor\":\"white\",\"ticks\":\"\"},\"baxis\":{\"gridcolor\":\"white\",\"linecolor\":\"white\",\"ticks\":\"\"},\"bgcolor\":\"#E5ECF6\",\"caxis\":{\"gridcolor\":\"white\",\"linecolor\":\"white\",\"ticks\":\"\"}},\"title\":{\"x\":0.05},\"xaxis\":{\"automargin\":true,\"gridcolor\":\"white\",\"linecolor\":\"white\",\"ticks\":\"\",\"title\":{\"standoff\":15},\"zerolinecolor\":\"white\",\"zerolinewidth\":2},\"yaxis\":{\"automargin\":true,\"gridcolor\":\"white\",\"linecolor\":\"white\",\"ticks\":\"\",\"title\":{\"standoff\":15},\"zerolinecolor\":\"white\",\"zerolinewidth\":2}}},\"title\":{\"text\":\"Anomaly rate\"}},                        {\"responsive\": true}                    ).then(function(){\n",
       "                            \n",
       "var gd = document.getElementById('21bbcfb9-1ec4-451b-b47e-1f0d9aa40573');\n",
       "var x = new MutationObserver(function (mutations, observer) {{\n",
       "        var display = window.getComputedStyle(gd).display;\n",
       "        if (!display || display === 'none') {{\n",
       "            console.log([gd, 'removed!']);\n",
       "            Plotly.purge(gd);\n",
       "            observer.disconnect();\n",
       "        }}\n",
       "}});\n",
       "\n",
       "// Listen for the removal of the full notebook cells\n",
       "var notebookContainer = gd.closest('#notebook-container');\n",
       "if (notebookContainer) {{\n",
       "    x.observe(notebookContainer, {childList: true});\n",
       "}}\n",
       "\n",
       "// Listen for the clearing of the current output cell\n",
       "var outputEl = gd.closest('.output');\n",
       "if (outputEl) {{\n",
       "    x.observe(outputEl, {childList: true});\n",
       "}}\n",
       "\n",
       "                        })                };                });            </script>        </div>"
      ]
     },
     "metadata": {},
     "output_type": "display_data"
    }
   ],
   "source": [
    "fig = px.pie(result['Anomaly'],names=result['Anomaly'], title='Anomaly rate')\n",
    "fig.show()"
   ]
  },
  {
   "cell_type": "markdown",
   "metadata": {
    "papermill": {
     "duration": 0.043787,
     "end_time": "2021-09-15T16:26:49.811438",
     "exception": false,
     "start_time": "2021-09-15T16:26:49.767651",
     "status": "completed"
    },
    "tags": []
   },
   "source": [
    "### Anomalies\n",
    "In this part we will perform Dimensionality Reduction technique to visualize data. This can be performed using technique such as PCA or TSNE algorithms."
   ]
  },
  {
   "cell_type": "code",
   "execution_count": 34,
   "metadata": {
    "execution": {
     "iopub.execute_input": "2021-09-15T16:34:11.454913Z",
     "iopub.status.busy": "2021-09-15T16:34:11.454038Z",
     "iopub.status.idle": "2021-09-15T16:34:11.463538Z",
     "shell.execute_reply": "2021-09-15T16:34:11.462129Z",
     "shell.execute_reply.started": "2021-09-15T16:34:11.454860Z"
    },
    "papermill": {
     "duration": 0.068275,
     "end_time": "2021-09-15T16:26:49.924034",
     "exception": false,
     "start_time": "2021-09-15T16:26:49.855759",
     "status": "completed"
    },
    "tags": []
   },
   "outputs": [],
   "source": [
    "pca = PCA(n_components=2)\n",
    "pca_results = pca.fit_transform(result.drop('Anomaly',axis=1))"
   ]
  },
  {
   "cell_type": "code",
   "execution_count": 35,
   "metadata": {
    "execution": {
     "iopub.execute_input": "2021-09-15T16:34:11.845133Z",
     "iopub.status.busy": "2021-09-15T16:34:11.844371Z",
     "iopub.status.idle": "2021-09-15T16:34:12.131975Z",
     "shell.execute_reply": "2021-09-15T16:34:12.131148Z",
     "shell.execute_reply.started": "2021-09-15T16:34:11.845098Z"
    },
    "papermill": {
     "duration": 0.309938,
     "end_time": "2021-09-15T16:26:50.277056",
     "exception": false,
     "start_time": "2021-09-15T16:26:49.967118",
     "status": "completed"
    },
    "tags": []
   },
   "outputs": [
    {
     "data": {
      "image/png": "[encoded data removed]",
      "text/plain": [
       "<Figure size 1440x720 with 1 Axes>"
      ]
     },
     "metadata": {
      "needs_background": "light"
     },
     "output_type": "display_data"
    }
   ],
   "source": [
    "plt.rcParams[\"figure.figsize\"] = (20,10)\n",
    "plt.scatter(x=pca_results[:,0],y=pca_results[:,1],c=result.iloc[:,result.columns.get_loc('Anomaly')])\n",
    "plt.show()"
   ]
  },
  {
   "cell_type": "markdown",
   "metadata": {
    "papermill": {
     "duration": 0.04336,
     "end_time": "2021-09-15T16:26:50.364200",
     "exception": false,
     "start_time": "2021-09-15T16:26:50.320840",
     "status": "completed"
    },
    "tags": []
   },
   "source": [
    "#### Creator: Vipin Kumar , Github: [Profile](https://github.com/devVipin01)"
   ]
  }
 ],
 "metadata": {
  "kernelspec": {
   "display_name": "Python 3",
   "language": "python",
   "name": "python3"
  },
  "language_info": {
   "codemirror_mode": {
    "name": "ipython",
    "version": 3
   },
   "file_extension": ".py",
   "mimetype": "text/x-python",
   "name": "python",
   "nbconvert_exporter": "python",
   "pygments_lexer": "ipython3",
   "version": "3.7.3"
  }
 },
 "nbformat": 4,
 "nbformat_minor": 4
}
