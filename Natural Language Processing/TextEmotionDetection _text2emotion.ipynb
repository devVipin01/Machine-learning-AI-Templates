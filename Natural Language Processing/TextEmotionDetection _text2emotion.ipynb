{
 "cells": [
  {
   "cell_type": "markdown",
   "metadata": {},
   "source": [
    "# Text Emotion Detection using text2emotion\n"
   ]
  },
  {
   "cell_type": "markdown",
   "metadata": {},
   "source": [
    "This Code Template is for Text Emotion Detection using text2emotion technique. "
   ]
  },
  {
   "cell_type": "markdown",
   "metadata": {},
   "source": [
    "### Required Packages"
   ]
  },
  {
   "cell_type": "code",
   "execution_count": 5,
   "metadata": {},
   "outputs": [],
   "source": [
    "!pip install text2emotion\n"
   ]
  },
  {
   "cell_type": "code",
   "execution_count": 2,
   "metadata": {},
   "outputs": [
    {
     "name": "stderr",
     "output_type": "stream",
     "text": [
      "[nltk_data] Downloading package stopwords to C:\\Users\\Vipin\n",
      "[nltk_data]     Kumar\\AppData\\Roaming\\nltk_data...\n",
      "[nltk_data]   Package stopwords is already up-to-date!\n",
      "[nltk_data] Downloading package punkt to C:\\Users\\Vipin\n",
      "[nltk_data]     Kumar\\AppData\\Roaming\\nltk_data...\n",
      "[nltk_data]   Package punkt is already up-to-date!\n",
      "[nltk_data] Downloading package wordnet to C:\\Users\\Vipin\n",
      "[nltk_data]     Kumar\\AppData\\Roaming\\nltk_data...\n",
      "[nltk_data]   Package wordnet is already up-to-date!\n"
     ]
    }
   ],
   "source": [
    "import warnings\n",
    "warnings.filterwarnings('ignore')\n",
    "\n",
    "import text2emotion as te"
   ]
  },
  {
   "cell_type": "markdown",
   "metadata": {},
   "source": [
    "### Initialization\n"
   ]
  },
  {
   "cell_type": "markdown",
   "metadata": {},
   "source": [
    "Filepath of CSV file"
   ]
  },
  {
   "cell_type": "code",
   "execution_count": 6,
   "metadata": {},
   "outputs": [],
   "source": [
    "#filepath\n",
    "file_path= ''"
   ]
  },
  {
   "cell_type": "markdown",
   "metadata": {},
   "source": [
    "Text column containing all the text data"
   ]
  },
  {
   "cell_type": "code",
   "execution_count": 3,
   "metadata": {},
   "outputs": [
    {
     "data": {
      "text/plain": [
       "'I am very good to day'"
      ]
     },
     "execution_count": 3,
     "metadata": {},
     "output_type": "execute_result"
    }
   ],
   "source": [
    "text=\"\"\n",
    "text"
   ]
  },
  {
   "cell_type": "markdown",
   "metadata": {},
   "source": [
    "## Model\n",
    "### text2emotion\n",
    "text2emotion is the python package which will help you to extract the emotions from the content.\n",
    "* Processes any textual message and recognize the emotions embedded in it.\n",
    "* Compatible with 5 different emotion categories as Happy, Angry, Sad, Surprise and Fear.\n",
    "\n",
    "#### Features\n",
    "\n",
    "**TEXT PRE-PROCESSING :**\n",
    "\n",
    "At first we have the major goal to perform data cleaning and make the content suitable for emotion analysis.\n",
    "\n",
    "* Remove the unwanted textual part from the message.\n",
    "* Perform the natural language processing techniques.\n",
    "* Bring out the well pre-processed text from the text pre-processing.\n",
    "\n",
    "**EMOTION INVESTIGATION :**\n",
    "\n",
    "Detect emotion from every word that we got from pre-processed text and take a count of it for further analytical process.\n",
    "\n",
    "* Find the appropriate words that express emotions or feelings.\n",
    "* Check the emotion category of each word.\n",
    "* Store the count of emotions relevant to the words found.\n",
    "\n",
    "**EMOTION ANALYSIS :**\n",
    "\n",
    "After emotion investigation, there is the time of getting the significant output for the textual message we input earlier.\n",
    "\n",
    "* The output will be in the form of dictionary.\n",
    "* There will be keys as emotion categories and values as emotion score.\n",
    "* Higher the score of a particular emotion category, we can conclude that the message belongs to that category"
   ]
  },
  {
   "cell_type": "code",
   "execution_count": 4,
   "metadata": {},
   "outputs": [
    {
     "data": {
      "text/plain": [
       "{'Happy': 1.0, 'Angry': 0.0, 'Surprise': 0.0, 'Sad': 0.0, 'Fear': 0.0}"
      ]
     },
     "execution_count": 4,
     "metadata": {},
     "output_type": "execute_result"
    }
   ],
   "source": [
    "#Call get_emotion() function to detect emotion\n",
    "te.get_emotion(text)"
   ]
  },
  {
   "cell_type": "markdown",
   "metadata": {},
   "source": [
    "#### Creator: Vipin Kumar , Github: [Profile](https://github.com/devVipin01)"
   ]
  }
 ],
 "metadata": {
  "interpreter": {
   "hash": "51a9663a131f1b5758c45b97a2d6917c8ae86b33e231c3733631cbc7265cfc89"
  },
  "kernelspec": {
   "display_name": "Python 3",
   "language": "python",
   "name": "python3"
  },
  "language_info": {
   "codemirror_mode": {
    "name": "ipython",
    "version": 3
   },
   "file_extension": ".py",
   "mimetype": "text/x-python",
   "name": "python",
   "nbconvert_exporter": "python",
   "pygments_lexer": "ipython3",
   "version": "3.7.3"
  }
 },
 "nbformat": 4,
 "nbformat_minor": 4
}
